{
 "cells": [
  {
   "cell_type": "code",
   "execution_count": 2,
   "id": "initial_id",
   "metadata": {
    "collapsed": true,
    "ExecuteTime": {
     "end_time": "2023-10-29T17:10:45.564338800Z",
     "start_time": "2023-10-29T17:10:43.562501900Z"
    }
   },
   "outputs": [],
   "source": [
    "import datetime\n",
    "\n",
    "import numpy as np\n",
    "import pandas as pd\n",
    "import re\n",
    "import matplotlib.pyplot as plt\n",
    "import datetime\n",
    "from matplotlib.dates import DateFormatter"
   ]
  },
  {
   "cell_type": "code",
   "execution_count": 96,
   "outputs": [
    {
     "name": "stderr",
     "output_type": "stream",
     "text": [
      "C:\\Users\\DIE4RMK\\AppData\\Local\\Temp\\ipykernel_13640\\2792495138.py:2: DtypeWarning: Columns (1) have mixed types. Specify dtype option on import or set low_memory=False.\n",
      "  data_esf = pd.read_csv(\"esf_all.csv\")\n"
     ]
    },
    {
     "data": {
      "text/plain": "       dt_date        nom_razr  g32goodsnumeric g34origincountryname  \\\n0   2022-03-15  06649/22004631                1           КОСТА-РИКА   \n1   2022-03-15  06649/22004636                1               ПАНАМА   \n2   2022-03-15  06650/22003657                1              ЭКВАДОР   \n3   2022-03-25  06650/22003852                1              ЭКВАДОР   \n4   2022-03-28  06649/22005210                1              ЭКВАДОР   \n5   2022-03-28  06649/22005211                1              ЭКВАДОР   \n6   2022-03-15  06650/22003645                1              ЭКВАДОР   \n7   2022-03-15  06533/22009550                1               ПАНАМА   \n8   2022-03-25  06533/22010317                1               ПАНАМА   \n9   2022-04-04  06649/22005588                1              ЭКВАДОР   \n10  2022-03-19  06649/22004851                1              ЭКВАДОР   \n11  2022-03-17  06649/22004770                1            НИКАРАГУА   \n12  2022-03-11  07228/22000725                1              ЭКВАДОР   \n13  2022-04-08  06649/22005985                1              ЭКВАДОР   \n14  2022-03-25  06650/22003854                1              ЭКВАДОР   \n15  2022-04-24  06649/22006845                1              ЭКВАДОР   \n16  2022-03-15  06651/22003366                1           КОСТА-РИКА   \n17  2022-03-17  06649/22004751                1              ЭКВАДОР   \n18  2022-04-01  06533/22010844                1              ЭКВАДОР   \n\n    g38netweightquantity   g14rbunp   g08rbunp  g331goodstnvedcode  \\\n0                 180972  799797409  799797409           803901000   \n1                 180612  799797409  799797409           803901000   \n2                 175050  800007064  800007064           803901000   \n3                 170316  794878660  794878660           803901000   \n4                 185760  799797409  799797409           803901000   \n5                 185220  799797409  799797409           803901000   \n6                 178812  707444748  707444748           803901000   \n7                 171873  707768747  707768747           803901000   \n8                 178083  797778804  797778804           803901000   \n9                 184320  799797409  799797409           803901000   \n10                176085  997474486  997474486           803901000   \n11                181980  794447489  794447489           803901000   \n12                179145  490490778  490490778           803901000   \n13                179676  799797409  799797409           803901000   \n14                170424  794878660  794878660           803901000   \n15                172368  997474486  997474486           803901000   \n16                179352  690664907  690664907           803901000   \n17                180576  997474486  997474486           803901000   \n18                182142  707768747  707768747           803901000   \n\n    ТС/кг, бел руб   ГОД  МЕСЯЦ  \n0            29.43  2022      3  \n1            29.52  2022      3  \n2            31.77  2022      3  \n3            22.14  2022      3  \n4            25.65  2022      3  \n5            25.65  2022      3  \n6            29.43  2022      3  \n7            28.44  2022      3  \n8            27.00  2022      3  \n9            21.24  2022      4  \n10           31.77  2022      3  \n11           26.37  2022      3  \n12           30.69  2022      3  \n13           22.68  2022      4  \n14           22.14  2022      3  \n15           25.20  2022      4  \n16           29.07  2022      3  \n17           31.05  2022      3  \n18           21.60  2022      4  ",
      "text/html": "<div>\n<style scoped>\n    .dataframe tbody tr th:only-of-type {\n        vertical-align: middle;\n    }\n\n    .dataframe tbody tr th {\n        vertical-align: top;\n    }\n\n    .dataframe thead th {\n        text-align: right;\n    }\n</style>\n<table border=\"1\" class=\"dataframe\">\n  <thead>\n    <tr style=\"text-align: right;\">\n      <th></th>\n      <th>dt_date</th>\n      <th>nom_razr</th>\n      <th>g32goodsnumeric</th>\n      <th>g34origincountryname</th>\n      <th>g38netweightquantity</th>\n      <th>g14rbunp</th>\n      <th>g08rbunp</th>\n      <th>g331goodstnvedcode</th>\n      <th>ТС/кг, бел руб</th>\n      <th>ГОД</th>\n      <th>МЕСЯЦ</th>\n    </tr>\n  </thead>\n  <tbody>\n    <tr>\n      <th>0</th>\n      <td>2022-03-15</td>\n      <td>06649/22004631</td>\n      <td>1</td>\n      <td>КОСТА-РИКА</td>\n      <td>180972</td>\n      <td>799797409</td>\n      <td>799797409</td>\n      <td>803901000</td>\n      <td>29.43</td>\n      <td>2022</td>\n      <td>3</td>\n    </tr>\n    <tr>\n      <th>1</th>\n      <td>2022-03-15</td>\n      <td>06649/22004636</td>\n      <td>1</td>\n      <td>ПАНАМА</td>\n      <td>180612</td>\n      <td>799797409</td>\n      <td>799797409</td>\n      <td>803901000</td>\n      <td>29.52</td>\n      <td>2022</td>\n      <td>3</td>\n    </tr>\n    <tr>\n      <th>2</th>\n      <td>2022-03-15</td>\n      <td>06650/22003657</td>\n      <td>1</td>\n      <td>ЭКВАДОР</td>\n      <td>175050</td>\n      <td>800007064</td>\n      <td>800007064</td>\n      <td>803901000</td>\n      <td>31.77</td>\n      <td>2022</td>\n      <td>3</td>\n    </tr>\n    <tr>\n      <th>3</th>\n      <td>2022-03-25</td>\n      <td>06650/22003852</td>\n      <td>1</td>\n      <td>ЭКВАДОР</td>\n      <td>170316</td>\n      <td>794878660</td>\n      <td>794878660</td>\n      <td>803901000</td>\n      <td>22.14</td>\n      <td>2022</td>\n      <td>3</td>\n    </tr>\n    <tr>\n      <th>4</th>\n      <td>2022-03-28</td>\n      <td>06649/22005210</td>\n      <td>1</td>\n      <td>ЭКВАДОР</td>\n      <td>185760</td>\n      <td>799797409</td>\n      <td>799797409</td>\n      <td>803901000</td>\n      <td>25.65</td>\n      <td>2022</td>\n      <td>3</td>\n    </tr>\n    <tr>\n      <th>5</th>\n      <td>2022-03-28</td>\n      <td>06649/22005211</td>\n      <td>1</td>\n      <td>ЭКВАДОР</td>\n      <td>185220</td>\n      <td>799797409</td>\n      <td>799797409</td>\n      <td>803901000</td>\n      <td>25.65</td>\n      <td>2022</td>\n      <td>3</td>\n    </tr>\n    <tr>\n      <th>6</th>\n      <td>2022-03-15</td>\n      <td>06650/22003645</td>\n      <td>1</td>\n      <td>ЭКВАДОР</td>\n      <td>178812</td>\n      <td>707444748</td>\n      <td>707444748</td>\n      <td>803901000</td>\n      <td>29.43</td>\n      <td>2022</td>\n      <td>3</td>\n    </tr>\n    <tr>\n      <th>7</th>\n      <td>2022-03-15</td>\n      <td>06533/22009550</td>\n      <td>1</td>\n      <td>ПАНАМА</td>\n      <td>171873</td>\n      <td>707768747</td>\n      <td>707768747</td>\n      <td>803901000</td>\n      <td>28.44</td>\n      <td>2022</td>\n      <td>3</td>\n    </tr>\n    <tr>\n      <th>8</th>\n      <td>2022-03-25</td>\n      <td>06533/22010317</td>\n      <td>1</td>\n      <td>ПАНАМА</td>\n      <td>178083</td>\n      <td>797778804</td>\n      <td>797778804</td>\n      <td>803901000</td>\n      <td>27.00</td>\n      <td>2022</td>\n      <td>3</td>\n    </tr>\n    <tr>\n      <th>9</th>\n      <td>2022-04-04</td>\n      <td>06649/22005588</td>\n      <td>1</td>\n      <td>ЭКВАДОР</td>\n      <td>184320</td>\n      <td>799797409</td>\n      <td>799797409</td>\n      <td>803901000</td>\n      <td>21.24</td>\n      <td>2022</td>\n      <td>4</td>\n    </tr>\n    <tr>\n      <th>10</th>\n      <td>2022-03-19</td>\n      <td>06649/22004851</td>\n      <td>1</td>\n      <td>ЭКВАДОР</td>\n      <td>176085</td>\n      <td>997474486</td>\n      <td>997474486</td>\n      <td>803901000</td>\n      <td>31.77</td>\n      <td>2022</td>\n      <td>3</td>\n    </tr>\n    <tr>\n      <th>11</th>\n      <td>2022-03-17</td>\n      <td>06649/22004770</td>\n      <td>1</td>\n      <td>НИКАРАГУА</td>\n      <td>181980</td>\n      <td>794447489</td>\n      <td>794447489</td>\n      <td>803901000</td>\n      <td>26.37</td>\n      <td>2022</td>\n      <td>3</td>\n    </tr>\n    <tr>\n      <th>12</th>\n      <td>2022-03-11</td>\n      <td>07228/22000725</td>\n      <td>1</td>\n      <td>ЭКВАДОР</td>\n      <td>179145</td>\n      <td>490490778</td>\n      <td>490490778</td>\n      <td>803901000</td>\n      <td>30.69</td>\n      <td>2022</td>\n      <td>3</td>\n    </tr>\n    <tr>\n      <th>13</th>\n      <td>2022-04-08</td>\n      <td>06649/22005985</td>\n      <td>1</td>\n      <td>ЭКВАДОР</td>\n      <td>179676</td>\n      <td>799797409</td>\n      <td>799797409</td>\n      <td>803901000</td>\n      <td>22.68</td>\n      <td>2022</td>\n      <td>4</td>\n    </tr>\n    <tr>\n      <th>14</th>\n      <td>2022-03-25</td>\n      <td>06650/22003854</td>\n      <td>1</td>\n      <td>ЭКВАДОР</td>\n      <td>170424</td>\n      <td>794878660</td>\n      <td>794878660</td>\n      <td>803901000</td>\n      <td>22.14</td>\n      <td>2022</td>\n      <td>3</td>\n    </tr>\n    <tr>\n      <th>15</th>\n      <td>2022-04-24</td>\n      <td>06649/22006845</td>\n      <td>1</td>\n      <td>ЭКВАДОР</td>\n      <td>172368</td>\n      <td>997474486</td>\n      <td>997474486</td>\n      <td>803901000</td>\n      <td>25.20</td>\n      <td>2022</td>\n      <td>4</td>\n    </tr>\n    <tr>\n      <th>16</th>\n      <td>2022-03-15</td>\n      <td>06651/22003366</td>\n      <td>1</td>\n      <td>КОСТА-РИКА</td>\n      <td>179352</td>\n      <td>690664907</td>\n      <td>690664907</td>\n      <td>803901000</td>\n      <td>29.07</td>\n      <td>2022</td>\n      <td>3</td>\n    </tr>\n    <tr>\n      <th>17</th>\n      <td>2022-03-17</td>\n      <td>06649/22004751</td>\n      <td>1</td>\n      <td>ЭКВАДОР</td>\n      <td>180576</td>\n      <td>997474486</td>\n      <td>997474486</td>\n      <td>803901000</td>\n      <td>31.05</td>\n      <td>2022</td>\n      <td>3</td>\n    </tr>\n    <tr>\n      <th>18</th>\n      <td>2022-04-01</td>\n      <td>06533/22010844</td>\n      <td>1</td>\n      <td>ЭКВАДОР</td>\n      <td>182142</td>\n      <td>707768747</td>\n      <td>707768747</td>\n      <td>803901000</td>\n      <td>21.60</td>\n      <td>2022</td>\n      <td>4</td>\n    </tr>\n  </tbody>\n</table>\n</div>"
     },
     "execution_count": 96,
     "metadata": {},
     "output_type": "execute_result"
    }
   ],
   "source": [
    "data_dt = pd.read_csv(\"only_dt.csv\")\n",
    "data_esf = pd.read_csv(\"esf_all.csv\")\n",
    "data_ch = pd.read_csv(\"only_checks.csv\")\n",
    "\n",
    "data_dt.head(19)"
   ],
   "metadata": {
    "collapsed": false,
    "ExecuteTime": {
     "end_time": "2023-10-29T22:08:29.260868200Z",
     "start_time": "2023-10-29T22:08:28.338569100Z"
    }
   },
   "id": "4bfd0b06703b5a29"
  },
  {
   "cell_type": "code",
   "execution_count": 90,
   "outputs": [],
   "source": [
    "\n",
    "\"\"\"\n",
    "2.8\n",
    "Подсчет процента присутствия компании в интервале\n",
    "\"\"\"\n",
    "def count_interval(left, right):\n",
    "    \"\"\"\n",
    "    Функция вычисления дельты - размерности временного интервала\n",
    "    \"\"\"\n",
    "    if isinstance(left, datetime.datetime) & isinstance(right, datetime.datetime): # Проверка на формат datetime\n",
    "        return int((right - left).days) # Вычисление лямбды\n",
    "    else:\n",
    "        return 0 # ERROR\n",
    "        \n",
    "    \n",
    "def get_activity_percent_sells(df):\n",
    "    interval = count_interval(time_start, time_end)\n",
    "    \"\"\"\n",
    "    Функия расчета отношения \"торговых\" дней к заданому интервалу для продаж (provider_unp)\n",
    "    \"\"\"\n",
    "    unique_companies = df['provider_unp'].unique() #Получаем список \n",
    "    percents = pd.DataFrame(columns=['Seller', 'percent']) # Храним колонку - компания и ее процент\n",
    "    for company in unique_companies: \n",
    "        active_dates = df[df[\"provider_unp\"] == company][\"general_date_transaction\"].nunique() # Подсчет кол-ва сделок конкретной компании.\n",
    "        percent = round(active_dates / interval * 100, 1) # Получаем процент и округляем\n",
    "        new_row = {'Seller': company, 'percent': percent}\n",
    "        percents.loc[len(percents)] = new_row\n",
    "    return percents\n",
    "    \n",
    "def get_activity_percent_buyers(df):\n",
    "        interval = count_interval(time_start, time_end)\n",
    "        \"\"\"\n",
    "        Функия расчета отношения \"торговых\" дней к заданому интервалу для покупок (recipient_unp)\n",
    "        \"\"\"\n",
    "        unique_companies = df['recipient_unp'].unique() #Получаем список \n",
    "        percents = pd.DataFrame(columns=['Buyer', 'percent']) # Храним колонку - компания и ее процент\n",
    "        for company in unique_companies: \n",
    "            active_dates = df[df[\"recipient_unp\"] == company][\"general_date_transaction\"].nunique() # Подсчет кол-ва сделок конкретной компании.\n",
    "            percent = round(active_dates / interval * 100, 1) # Получаем процент и округляем\n",
    "            new_row = {'Buyer': company, 'percent': percent}\n",
    "            percents.loc[len(percents)] = new_row\n",
    "        return percents"
   ],
   "metadata": {
    "collapsed": false,
    "ExecuteTime": {
     "end_time": "2023-10-29T21:09:55.825221500Z",
     "start_time": "2023-10-29T21:09:55.807281600Z"
    }
   },
   "id": "a13494bcafb612eb"
  },
  {
   "cell_type": "code",
   "execution_count": 94,
   "outputs": [
    {
     "name": "stdout",
     "output_type": "stream",
     "text": [
      "      Seller  percent\n",
      "0  707484767     19.4\n",
      "1  707777798     19.4\n",
      "2  797778804      3.2\n",
      "3  700940649      3.2\n",
      "4  800847488      3.2\n",
      "5  697846977      3.2\n",
      "6  900794744      6.5\n",
      "7  700997964      9.7\n",
      "8        NaN      0.0\n",
      "9  490490778     12.9\n"
     ]
    }
   ],
   "source": [
    "\"\"\"\n",
    "БЛОК ТЕСТ\n",
    "\"\"\"\n",
    "\n",
    "\n",
    "\n",
    "\n",
    "time_start = \"2022-01-01\"\n",
    "time_start = pd.to_datetime(time_start)\n",
    "\n",
    "time_end = \"2022-02-01\"\n",
    "time_end = pd.to_datetime(time_end)\n",
    "\n",
    "interval = count_interval(time_start, time_end)\n",
    "\n",
    "ans = get_activity_percent_sells(data_esf)\n",
    "\n",
    "print(ans)"
   ],
   "metadata": {
    "collapsed": false,
    "ExecuteTime": {
     "end_time": "2023-10-29T21:12:55.336124700Z",
     "start_time": "2023-10-29T21:12:55.299246800Z"
    }
   },
   "id": "5b56ccfdf335a377"
  },
  {
   "cell_type": "code",
   "execution_count": 88,
   "outputs": [],
   "source": [],
   "metadata": {
    "collapsed": false,
    "ExecuteTime": {
     "end_time": "2023-10-29T21:09:47.210179800Z",
     "start_time": "2023-10-29T21:09:47.192241900Z"
    }
   },
   "id": "9b01859d265fd927"
  },
  {
   "cell_type": "code",
   "execution_count": null,
   "outputs": [],
   "source": [],
   "metadata": {
    "collapsed": false
   },
   "id": "b5ef95b75af6cf7b"
  }
 ],
 "metadata": {
  "kernelspec": {
   "display_name": "Python 3",
   "language": "python",
   "name": "python3"
  },
  "language_info": {
   "codemirror_mode": {
    "name": "ipython",
    "version": 2
   },
   "file_extension": ".py",
   "mimetype": "text/x-python",
   "name": "python",
   "nbconvert_exporter": "python",
   "pygments_lexer": "ipython2",
   "version": "2.7.6"
  }
 },
 "nbformat": 4,
 "nbformat_minor": 5
}

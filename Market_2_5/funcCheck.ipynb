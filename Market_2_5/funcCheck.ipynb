{
 "cells": [
  {
   "cell_type": "code",
   "execution_count": 2,
   "id": "initial_id",
   "metadata": {
    "collapsed": true,
    "ExecuteTime": {
     "end_time": "2023-10-26T08:33:12.083397600Z",
     "start_time": "2023-10-26T08:33:10.291773700Z"
    }
   },
   "outputs": [],
   "source": [
    "import datetime\n",
    "\n",
    "import numpy as np\n",
    "import pandas as pd\n",
    "import re\n",
    "import matplotlib.pyplot as plt\n",
    "import datetime\n",
    "from matplotlib.dates import DateFormatter"
   ]
  },
  {
   "cell_type": "code",
   "execution_count": 3,
   "outputs": [
    {
     "name": "stdout",
     "output_type": "stream",
     "text": [
      "       dt_date        nom_razr  g32goodsnumeric g34origincountryname  \\\n",
      "0   2022-03-15  06649/22004631                1           КОСТА-РИКА   \n",
      "1   2022-03-15  06649/22004636                1               ПАНАМА   \n",
      "2   2022-03-15  06650/22003657                1              ЭКВАДОР   \n",
      "3   2022-03-25  06650/22003852                1              ЭКВАДОР   \n",
      "4   2022-03-28  06649/22005210                1              ЭКВАДОР   \n",
      "5   2022-03-28  06649/22005211                1              ЭКВАДОР   \n",
      "6   2022-03-15  06650/22003645                1              ЭКВАДОР   \n",
      "7   2022-03-15  06533/22009550                1               ПАНАМА   \n",
      "8   2022-03-25  06533/22010317                1               ПАНАМА   \n",
      "9   2022-04-04  06649/22005588                1              ЭКВАДОР   \n",
      "10  2022-03-19  06649/22004851                1              ЭКВАДОР   \n",
      "11  2022-03-17  06649/22004770                1            НИКАРАГУА   \n",
      "12  2022-03-11  07228/22000725                1              ЭКВАДОР   \n",
      "13  2022-04-08  06649/22005985                1              ЭКВАДОР   \n",
      "14  2022-03-25  06650/22003854                1              ЭКВАДОР   \n",
      "15  2022-04-24  06649/22006845                1              ЭКВАДОР   \n",
      "16  2022-03-15  06651/22003366                1           КОСТА-РИКА   \n",
      "17  2022-03-17  06649/22004751                1              ЭКВАДОР   \n",
      "18  2022-04-01  06533/22010844                1              ЭКВАДОР   \n",
      "19  2022-03-30  06649/22005347                1              ЭКВАДОР   \n",
      "\n",
      "    g38netweightquantity   g14rbunp   g08rbunp  g331goodstnvedcode  \\\n",
      "0                 180972  799797409  799797409           803901000   \n",
      "1                 180612  799797409  799797409           803901000   \n",
      "2                 175050  800007064  800007064           803901000   \n",
      "3                 170316  794878660  794878660           803901000   \n",
      "4                 185760  799797409  799797409           803901000   \n",
      "5                 185220  799797409  799797409           803901000   \n",
      "6                 178812  707444748  707444748           803901000   \n",
      "7                 171873  707768747  707768747           803901000   \n",
      "8                 178083  797778804  797778804           803901000   \n",
      "9                 184320  799797409  799797409           803901000   \n",
      "10                176085  997474486  997474486           803901000   \n",
      "11                181980  794447489  794447489           803901000   \n",
      "12                179145  490490778  490490778           803901000   \n",
      "13                179676  799797409  799797409           803901000   \n",
      "14                170424  794878660  794878660           803901000   \n",
      "15                172368  997474486  997474486           803901000   \n",
      "16                179352  690664907  690664907           803901000   \n",
      "17                180576  997474486  997474486           803901000   \n",
      "18                182142  707768747  707768747           803901000   \n",
      "19                177588  997474486  997474486           803901000   \n",
      "\n",
      "    ТС/кг, бел руб   ГОД  МЕСЯЦ  \n",
      "0            29.43  2022      3  \n",
      "1            29.52  2022      3  \n",
      "2            31.77  2022      3  \n",
      "3            22.14  2022      3  \n",
      "4            25.65  2022      3  \n",
      "5            25.65  2022      3  \n",
      "6            29.43  2022      3  \n",
      "7            28.44  2022      3  \n",
      "8            27.00  2022      3  \n",
      "9            21.24  2022      4  \n",
      "10           31.77  2022      3  \n",
      "11           26.37  2022      3  \n",
      "12           30.69  2022      3  \n",
      "13           22.68  2022      4  \n",
      "14           22.14  2022      3  \n",
      "15           25.20  2022      4  \n",
      "16           29.07  2022      3  \n",
      "17           31.05  2022      3  \n",
      "18           21.60  2022      4  \n",
      "19           25.11  2022      3  \n"
     ]
    }
   ],
   "source": [
    "data_dt = pd.read_csv(\"only_dt.csv\")\n",
    "data_esf = pd.read_csv(\"esf_mag.csv\")\n",
    "data_ch = pd.read_csv(\"only_checks.csv\")\n",
    "data_test = pd.read_csv(\"test_view_10000.csv\")\n",
    "print(data_dt.head(20))"
   ],
   "metadata": {
    "collapsed": false,
    "ExecuteTime": {
     "end_time": "2023-10-26T08:33:12.371395900Z",
     "start_time": "2023-10-26T08:33:12.085397500Z"
    }
   },
   "id": "4bfd0b06703b5a29"
  },
  {
   "cell_type": "code",
   "execution_count": 75,
   "outputs": [],
   "source": [],
   "metadata": {
    "collapsed": false,
    "ExecuteTime": {
     "end_time": "2023-10-25T22:15:59.053949900Z",
     "start_time": "2023-10-25T22:15:59.010147500Z"
    }
   },
   "id": "259c177806182689"
  },
  {
   "cell_type": "code",
   "execution_count": 76,
   "outputs": [],
   "source": [
    "def read_data_dt(data, code, company, time_start, time_end):\n",
    "    \"\"\"\n",
    "    Функция чтения файла по ДТ\n",
    "    \"\"\"\n",
    "    data['dt_date'] = pd.to_datetime(data['dt_date'])\n",
    "    time_start = pd.to_datetime(time_start)\n",
    "    time_end = pd.to_datetime(time_end)\n",
    "    data = data[(data['dt_date'] >= time_start) & (data['dt_date'] <= time_end)]\n",
    "    data_nw = data[(data['g32goodsnumeric'] == code) & (data['g14rbunp'] == company)]\n",
    "    return data_nw\n",
    "\n",
    "\n",
    "def read_data_ch(data, code, company, time_start, time_end):\n",
    "    \"\"\"\n",
    "    Функция чтения файла по Чекам\n",
    "    \"\"\"\n",
    "    data['issued_at'] = pd.to_datetime(data['issued_at'])\n",
    "    time_start = pd.to_datetime(time_start)\n",
    "    time_end = pd.to_datetime(time_end)\n",
    "    data = data[(data['issued_at'] >= time_start) & (data['issued_at'] <= time_end)]\n",
    "    data_nw = data[(data['gtin'] == code) & (data['unp'] == company)]\n",
    "    return data_nw"
   ],
   "metadata": {
    "collapsed": false,
    "ExecuteTime": {
     "end_time": "2023-10-25T22:15:59.059949600Z",
     "start_time": "2023-10-25T22:15:59.026559600Z"
    }
   },
   "id": "80fd9d26997f79a"
  },
  {
   "cell_type": "code",
   "execution_count": 77,
   "outputs": [],
   "source": [
    "\"\"\"\n",
    "2.5 Показа объёма в количественном и стоимостном выражении, ориентируясь отдельно на\n",
    " ДТ и на чеки - столбч. диаграмма \n",
    "\"\"\"\n",
    "\n",
    "def show_sells_by_dt(df):\n",
    "    \"\"\"\n",
    "    Функция показа объема рынка в стоимостном выражении по ДТ\n",
    "    \"\"\"\n",
    "    grouped_df = df.groupby('dt_date')['ТС/кг, бел руб'].sum().reset_index()\n",
    "    print(grouped_df.head(20))\n",
    "    plt.figure(figsize=(10, 6))\n",
    "    plt.bar(grouped_df.index.strftime('%Y-%m-%d'), grouped_df.values)\n",
    "    plt.xlabel('Дата')\n",
    "    plt.ylabel('Сумма')\n",
    "    plt.title('Суммарные продажи по дням по ДТ')\n",
    "    plt.xticks(rotation=55)\n",
    "    plt.show()\n",
    "\n",
    "def show_sells_by_check(df):\n",
    "    \"\"\"\n",
    "    Функция показа объема рынка в стоимостном выражении по Чекам\n",
    "    \"\"\"\n",
    "    grouped_df = df.groupby('issued_at')['total_amount'].sum()\n",
    "    plt.figure(figsize=(10, 6))\n",
    "    plt.bar(grouped_df.index.strftime('%Y-%m-%d'), grouped_df.values)\n",
    "    plt.xlabel('Дата')\n",
    "    plt.ylabel('Сумма')\n",
    "    plt.title('Суммарные продажи по дням по чекам')\n",
    "    plt.xticks(rotation=55)\n",
    "    plt.show()\n",
    "    \n",
    "    \n",
    "def show_quantity_by_check(df):\n",
    "    \"\"\"\n",
    "    Функция показа объема рынка в количиественном выражении по Чекам\n",
    "    \"\"\"\n",
    "    grouped_df = df.groupby('issued_at')['position_count'].sum()\n",
    "    plt.figure(figsize=(10, 6))\n",
    "    plt.bar(grouped_df.index.strftime('%Y-%m-%d'), grouped_df.values)\n",
    "    plt.xlabel('Дата')\n",
    "    plt.ylabel('Количество')\n",
    "    plt.title('Количественные  продажи по дням по чекам')\n",
    "    plt.xticks(rotation=55)\n",
    "    plt.show()\n",
    "    \n",
    "def show_quantity_by_dt(df):\n",
    "    \"\"\"\n",
    "    Функция показа объема рынка в количиественном выражении по ДТ\n",
    "    \"\"\"\n",
    "    grouped_df = df.groupby('dt_date')['g38netweightquantity'].sum()\n",
    "    plt.figure(figsize=(10, 6))\n",
    "    plt.bar(grouped_df.index.strftime('%Y-%m-%d'), grouped_df.values)\n",
    "    plt.xlabel('Дата')\n",
    "    plt.ylabel('Количество')\n",
    "    plt.title('Количественные  продажи по дням по ДТ')\n",
    "    plt.xticks(rotation=55)\n",
    "    plt.show()\n",
    "    \n",
    "\"\"\"\n",
    "2.8\n",
    "Подсчет процента присутствия компании в интервале\n",
    "\"\"\"\n",
    "def count_interval(left, right):\n",
    "    \"\"\"\n",
    "    Функция вычисления дельты - размерности временного интервала\n",
    "    \"\"\"\n",
    "    if isinstance(left, datetime.datetime) & isinstance(right, datetime.datetime): # Проверка на формат datetime\n",
    "        return int((right - left).days) # Вычисление лямбды\n",
    "    else:\n",
    "        return 0 # ERROR\n",
    "        \n",
    "def get_activity_percent(df, time_st, time_e):\n",
    "    \"\"\"\n",
    "    Функия расчета отношения \"торговых\" дней к заданому интервалу\n",
    "    \"\"\"\n",
    "    delta = count_interval(time_st, time_e)\n",
    "    active_dates = int(df['dt_date'].nunique()) # Подсчет \"торговых дней\"\n",
    "    return (round(active_dates / delta * 100, 1), \"%\")  \n",
    "\n",
    "def get_company_info_dt(data, code, time_start, time_end):\n",
    "    data['dt_date'] = pd.to_datetime(data['dt_date'])\n",
    "    time_start = pd.to_datetime(time_start)\n",
    "    time_end = pd.to_datetime(time_end)\n",
    "    data = data[(data['dt_date'] >= time_start) & (data['dt_date'] <= time_end)]\n",
    "    data_nw = data[(data['g32goodsnumeric'] == code)]\n",
    "    data_nw[\"Процент активности\"] = get_activity_percent(data_nw, time_start, time_end)\n",
    "    print(data_nw.info())\n",
    "    print(data_nw.head(10))\n",
    "    \n",
    "    \n",
    "def get_percent_impact(df_dt, df_ch):\n",
    "    \"\"\"\n",
    "    Функция расчета процента продаваемости\n",
    "    \"\"\"\n",
    "    buy = df_dt.groupby('issued_at')['total_amount'].sum()\n",
    "    sell = df_ch.groupby('issued_at')['total_amount'].sum()\n",
    "    return sell / buy\n",
    "    \n",
    "    \n",
    "    \n",
    "    "
   ],
   "metadata": {
    "collapsed": false,
    "ExecuteTime": {
     "end_time": "2023-10-25T22:15:59.071965500Z",
     "start_time": "2023-10-25T22:15:59.042949900Z"
    }
   },
   "id": "a13494bcafb612eb"
  },
  {
   "cell_type": "code",
   "execution_count": 78,
   "outputs": [
    {
     "name": "stdout",
     "output_type": "stream",
     "text": [
      "       dt_date  ТС/кг, бел руб\n",
      "0   2021-12-03           90.45\n",
      "1   2021-12-04           16.20\n",
      "2   2021-12-10           17.28\n",
      "3   2021-12-15          112.77\n",
      "4   2021-12-20           19.35\n",
      "5   2021-12-21           40.41\n",
      "6   2021-12-25           54.72\n",
      "7   2021-12-28           17.73\n",
      "8   2021-12-30           38.16\n",
      "9   2021-12-31           18.81\n",
      "10  2022-01-02           37.44\n",
      "11  2022-01-03          174.06\n",
      "12  2022-01-04          112.41\n",
      "13  2022-01-05          108.72\n",
      "14  2022-01-06          148.41\n",
      "15  2022-01-07           32.13\n",
      "16  2022-01-08          215.82\n",
      "17  2022-01-09          207.90\n",
      "18  2022-01-10          126.54\n",
      "19  2022-01-11          180.90\n"
     ]
    },
    {
     "ename": "AttributeError",
     "evalue": "'RangeIndex' object has no attribute 'strftime'",
     "output_type": "error",
     "traceback": [
      "\u001B[1;31m---------------------------------------------------------------------------\u001B[0m",
      "\u001B[1;31mAttributeError\u001B[0m                            Traceback (most recent call last)",
      "Cell \u001B[1;32mIn[78], line 17\u001B[0m\n\u001B[0;32m     14\u001B[0m time_end \u001B[38;5;241m=\u001B[39m \u001B[38;5;124m\"\u001B[39m\u001B[38;5;124m2022-05-01\u001B[39m\u001B[38;5;124m\"\u001B[39m\n\u001B[0;32m     15\u001B[0m time_end \u001B[38;5;241m=\u001B[39m pd\u001B[38;5;241m.\u001B[39mto_datetime(time_end)\n\u001B[1;32m---> 17\u001B[0m \u001B[43mshow_sells_by_dt\u001B[49m\u001B[43m(\u001B[49m\u001B[43mdata_dt\u001B[49m\u001B[43m)\u001B[49m\n\u001B[0;32m     18\u001B[0m \u001B[38;5;124;03m\"\"\"ans = read_data_dt(data_dt, code, company, time_start, time_end)\u001B[39;00m\n\u001B[0;32m     19\u001B[0m \u001B[38;5;124;03mshow_quantity_by_dt(ans)\u001B[39;00m\n\u001B[0;32m     20\u001B[0m \u001B[38;5;124;03mans.head(10)\"\"\"\u001B[39;00m\n\u001B[0;32m     22\u001B[0m \u001B[38;5;124;03m\"\"\"code = 22741 # gtin\u001B[39;00m\n\u001B[0;32m     23\u001B[0m \n\u001B[0;32m     24\u001B[0m \u001B[38;5;124;03mcompany = 900077446 # unp\u001B[39;00m\n\u001B[1;32m   (...)\u001B[0m\n\u001B[0;32m     29\u001B[0m \u001B[38;5;124;03mtime_end = \"2023-03-01\"\u001B[39;00m\n\u001B[0;32m     30\u001B[0m \u001B[38;5;124;03mtime_end = pd.to_datetime(time_end)\"\"\"\u001B[39;00m\n",
      "Cell \u001B[1;32mIn[77], line 13\u001B[0m, in \u001B[0;36mshow_sells_by_dt\u001B[1;34m(df)\u001B[0m\n\u001B[0;32m     11\u001B[0m \u001B[38;5;28mprint\u001B[39m(grouped_df\u001B[38;5;241m.\u001B[39mhead(\u001B[38;5;241m20\u001B[39m))\n\u001B[0;32m     12\u001B[0m plt\u001B[38;5;241m.\u001B[39mfigure(figsize\u001B[38;5;241m=\u001B[39m(\u001B[38;5;241m10\u001B[39m, \u001B[38;5;241m6\u001B[39m))\n\u001B[1;32m---> 13\u001B[0m plt\u001B[38;5;241m.\u001B[39mbar(\u001B[43mgrouped_df\u001B[49m\u001B[38;5;241;43m.\u001B[39;49m\u001B[43mindex\u001B[49m\u001B[38;5;241;43m.\u001B[39;49m\u001B[43mstrftime\u001B[49m(\u001B[38;5;124m'\u001B[39m\u001B[38;5;124m%\u001B[39m\u001B[38;5;124mY-\u001B[39m\u001B[38;5;124m%\u001B[39m\u001B[38;5;124mm-\u001B[39m\u001B[38;5;132;01m%d\u001B[39;00m\u001B[38;5;124m'\u001B[39m), grouped_df\u001B[38;5;241m.\u001B[39mvalues)\n\u001B[0;32m     14\u001B[0m plt\u001B[38;5;241m.\u001B[39mxlabel(\u001B[38;5;124m'\u001B[39m\u001B[38;5;124mДата\u001B[39m\u001B[38;5;124m'\u001B[39m)\n\u001B[0;32m     15\u001B[0m plt\u001B[38;5;241m.\u001B[39mylabel(\u001B[38;5;124m'\u001B[39m\u001B[38;5;124mСумма\u001B[39m\u001B[38;5;124m'\u001B[39m)\n",
      "\u001B[1;31mAttributeError\u001B[0m: 'RangeIndex' object has no attribute 'strftime'"
     ]
    },
    {
     "data": {
      "text/plain": "<Figure size 1000x600 with 0 Axes>"
     },
     "metadata": {},
     "output_type": "display_data"
    }
   ],
   "source": [
    "\"\"\"\n",
    "БЛОК ТЕСТ\n",
    "\"\"\"\n",
    "\n",
    "\n",
    "\n",
    "code = 1 # g32goodsnumeric\n",
    "\n",
    "company = 799797409 # g08rbunp\n",
    "\n",
    "time_start = \"2022-03-28\"\n",
    "time_start = pd.to_datetime(time_start)\n",
    "\n",
    "time_end = \"2022-05-01\"\n",
    "time_end = pd.to_datetime(time_end)\n",
    "\n",
    "show_sells_by_dt(data_dt)\n",
    "\"\"\"ans = read_data_dt(data_dt, code, company, time_start, time_end)\n",
    "show_quantity_by_dt(ans)\n",
    "ans.head(10)\"\"\"\n",
    "\n",
    "\"\"\"code = 22741 # gtin\n",
    "\n",
    "company = 900077446 # unp\n",
    "\n",
    "time_start = \"2023-02-24\"\n",
    "time_start = pd.to_datetime(time_start)\n",
    "\n",
    "time_end = \"2023-03-01\"\n",
    "time_end = pd.to_datetime(time_end)\"\"\"\n",
    "\n",
    "\n",
    "\"\"\"ans = read_data_ch(data_ch, code, company, time_start, time_end)\n",
    "print(ans.head(10))\n",
    "show_quantity_by_check(ans)\"\"\"\n",
    "\n"
   ],
   "metadata": {
    "collapsed": false,
    "ExecuteTime": {
     "end_time": "2023-10-25T22:15:59.117950100Z",
     "start_time": "2023-10-25T22:15:59.071965500Z"
    }
   },
   "id": "5b56ccfdf335a377"
  },
  {
   "cell_type": "code",
   "execution_count": null,
   "outputs": [],
   "source": [],
   "metadata": {
    "collapsed": false,
    "ExecuteTime": {
     "start_time": "2023-10-25T22:15:59.102950700Z"
    }
   },
   "id": "51958484fadb0140"
  }
 ],
 "metadata": {
  "kernelspec": {
   "display_name": "Python 3",
   "language": "python",
   "name": "python3"
  },
  "language_info": {
   "codemirror_mode": {
    "name": "ipython",
    "version": 2
   },
   "file_extension": ".py",
   "mimetype": "text/x-python",
   "name": "python",
   "nbconvert_exporter": "python",
   "pygments_lexer": "ipython2",
   "version": "2.7.6"
  }
 },
 "nbformat": 4,
 "nbformat_minor": 5
}
